{
 "cells": [
  {
   "cell_type": "code",
   "execution_count": 1,
   "id": "384447da",
   "metadata": {},
   "outputs": [],
   "source": [
    "import os\n",
    "import numpy as np\n",
    "import matplotlib.pyplot as plt\n",
    "from sklearn.metrics import confusion_matrix, classification_report\n",
    "from sklearn.utils.class_weight import compute_class_weight\n",
    "\n",
    "from tensorflow.keras.preprocessing.image import ImageDataGenerator\n",
    "from tensorflow.keras.applications import MobileNetV2\n",
    "from tensorflow.keras import layers, models\n",
    "from tensorflow.keras.callbacks import EarlyStopping"
   ]
  },
  {
   "cell_type": "markdown",
   "id": "a2272b35",
   "metadata": {},
   "source": [
    "Paths"
   ]
  },
  {
   "cell_type": "code",
   "execution_count": 2,
   "id": "6ba02c7a",
   "metadata": {},
   "outputs": [],
   "source": [
    "train_dir = r\"C:\\Users\\farna\\OneDrive\\Desktop\\data science\\dataset_dogs_vs_cats\\train\"\n",
    "test_dir = r\"C:\\Users\\farna\\OneDrive\\Desktop\\data science\\dataset_dogs_vs_cats\\test\""
   ]
  },
  {
   "cell_type": "markdown",
   "id": "d124f95b",
   "metadata": {},
   "source": [
    " Image size and batch\n"
   ]
  },
  {
   "cell_type": "code",
   "execution_count": 3,
   "id": "1a5f7b64",
   "metadata": {},
   "outputs": [],
   "source": [
    "IMG_SIZE = (224, 224)\n",
    "BATCH_SIZE = 32"
   ]
  },
  {
   "cell_type": "markdown",
   "id": "56d4282f",
   "metadata": {},
   "source": [
    "Data augmentation"
   ]
  },
  {
   "cell_type": "code",
   "execution_count": 5,
   "id": "403ca380",
   "metadata": {},
   "outputs": [
    {
     "name": "stdout",
     "output_type": "stream",
     "text": [
      "Found 14874 images belonging to 2 classes.\n",
      "Found 5023 images belonging to 2 classes.\n"
     ]
    }
   ],
   "source": [
    "train_datagen = ImageDataGenerator(\n",
    "    rescale=1./255,\n",
    "    rotation_range=20,\n",
    "    width_shift_range=0.2,\n",
    "    height_shift_range=0.2,\n",
    "    shear_range=0.2,\n",
    "    zoom_range=0.2,\n",
    "    horizontal_flip=True,\n",
    "    fill_mode='nearest'\n",
    ")\n",
    "\n",
    "test_datagen = ImageDataGenerator(rescale=1./255)\n",
    "\n",
    "train_data = train_datagen.flow_from_directory(\n",
    "    train_dir,\n",
    "    target_size=IMG_SIZE,\n",
    "    batch_size=BATCH_SIZE,\n",
    "    class_mode='binary'\n",
    ")\n",
    "\n",
    "test_data = test_datagen.flow_from_directory(\n",
    "    test_dir,\n",
    "    target_size=IMG_SIZE,\n",
    "    batch_size=BATCH_SIZE,\n",
    "    class_mode='binary',\n",
    "    shuffle=False\n",
    ")"
   ]
  },
  {
   "cell_type": "markdown",
   "id": "9d5fad43",
   "metadata": {},
   "source": [
    "Compute class weights to handle imbalance"
   ]
  },
  {
   "cell_type": "code",
   "execution_count": 6,
   "id": "23eace52",
   "metadata": {},
   "outputs": [],
   "source": [
    "y_train = train_data.classes\n",
    "class_weights = compute_class_weight(class_weight='balanced', classes=np.unique(y_train), y=y_train)\n",
    "class_weights_dict = dict(enumerate(class_weights))"
   ]
  },
  {
   "cell_type": "markdown",
   "id": "bb97310c",
   "metadata": {},
   "source": [
    "Base model"
   ]
  },
  {
   "cell_type": "code",
   "execution_count": 7,
   "id": "10e8fd01",
   "metadata": {},
   "outputs": [],
   "source": [
    "base_model = MobileNetV2(input_shape=(224, 224, 3), include_top=False, weights='imagenet')\n",
    "base_model.trainable = False  # Freeze at first"
   ]
  },
  {
   "cell_type": "markdown",
   "id": "b2c7a5bd",
   "metadata": {},
   "source": [
    "Build the Full MOdel"
   ]
  },
  {
   "cell_type": "code",
   "execution_count": 8,
   "id": "ffad67e4",
   "metadata": {},
   "outputs": [],
   "source": [
    "model = models.Sequential([\n",
    "    base_model,\n",
    "    layers.GlobalAveragePooling2D(),\n",
    "    layers.Dense(1, activation='sigmoid')\n",
    "])\n",
    "\n",
    "model.compile(optimizer='adam', loss='binary_crossentropy', metrics=['accuracy'])"
   ]
  },
  {
   "cell_type": "markdown",
   "id": "888c5ae4",
   "metadata": {},
   "source": [
    "Callbacks"
   ]
  },
  {
   "cell_type": "code",
   "execution_count": 9,
   "id": "3b299892",
   "metadata": {},
   "outputs": [],
   "source": [
    "early_stop = EarlyStopping(monitor='val_loss', patience=3, restore_best_weights=True)\n"
   ]
  },
  {
   "cell_type": "markdown",
   "id": "198cdc7b",
   "metadata": {},
   "source": [
    "Initial training"
   ]
  },
  {
   "cell_type": "code",
   "execution_count": 10,
   "id": "79391ca9",
   "metadata": {},
   "outputs": [
    {
     "name": "stderr",
     "output_type": "stream",
     "text": [
      "c:\\Users\\farna\\miniconda3\\Lib\\site-packages\\keras\\src\\trainers\\data_adapters\\py_dataset_adapter.py:121: UserWarning: Your `PyDataset` class should call `super().__init__(**kwargs)` in its constructor. `**kwargs` can include `workers`, `use_multiprocessing`, `max_queue_size`. Do not pass these arguments to `fit()`, as they will be ignored.\n",
      "  self._warn_if_super_not_called()\n"
     ]
    },
    {
     "name": "stdout",
     "output_type": "stream",
     "text": [
      "Epoch 1/5\n",
      "\u001b[1m465/465\u001b[0m \u001b[32m━━━━━━━━━━━━━━━━━━━━\u001b[0m\u001b[37m\u001b[0m \u001b[1m383s\u001b[0m 815ms/step - accuracy: 0.9341 - loss: 0.1785 - val_accuracy: 0.9771 - val_loss: 0.0566\n",
      "Epoch 2/5\n",
      "\u001b[1m465/465\u001b[0m \u001b[32m━━━━━━━━━━━━━━━━━━━━\u001b[0m\u001b[37m\u001b[0m \u001b[1m350s\u001b[0m 753ms/step - accuracy: 0.9700 - loss: 0.0749 - val_accuracy: 0.9751 - val_loss: 0.0639\n",
      "Epoch 3/5\n",
      "\u001b[1m465/465\u001b[0m \u001b[32m━━━━━━━━━━━━━━━━━━━━\u001b[0m\u001b[37m\u001b[0m \u001b[1m333s\u001b[0m 717ms/step - accuracy: 0.9737 - loss: 0.0669 - val_accuracy: 0.9789 - val_loss: 0.0529\n",
      "Epoch 4/5\n",
      "\u001b[1m465/465\u001b[0m \u001b[32m━━━━━━━━━━━━━━━━━━━━\u001b[0m\u001b[37m\u001b[0m \u001b[1m339s\u001b[0m 729ms/step - accuracy: 0.9761 - loss: 0.0649 - val_accuracy: 0.9695 - val_loss: 0.0815\n",
      "Epoch 5/5\n",
      "\u001b[1m465/465\u001b[0m \u001b[32m━━━━━━━━━━━━━━━━━━━━\u001b[0m\u001b[37m\u001b[0m \u001b[1m305s\u001b[0m 656ms/step - accuracy: 0.9743 - loss: 0.0650 - val_accuracy: 0.9779 - val_loss: 0.0528\n"
     ]
    }
   ],
   "source": [
    "history = model.fit(\n",
    "    train_data,\n",
    "    validation_data=test_data,\n",
    "    epochs=5,\n",
    "    class_weight=class_weights_dict,\n",
    "    callbacks=[early_stop]\n",
    ")\n"
   ]
  },
  {
   "cell_type": "markdown",
   "id": "ad0c8d83",
   "metadata": {},
   "source": [
    "Fine-tuning\n"
   ]
  },
  {
   "cell_type": "code",
   "execution_count": 11,
   "id": "54ad5b5f",
   "metadata": {},
   "outputs": [],
   "source": [
    "base_model.trainable = True\n",
    "for layer in base_model.layers[:-20]:  # Freeze all but top 20\n",
    "    layer.trainable = False"
   ]
  },
  {
   "cell_type": "markdown",
   "id": "46065e01",
   "metadata": {},
   "source": [
    "Recompile after unfreezing"
   ]
  },
  {
   "cell_type": "code",
   "execution_count": 12,
   "id": "99e24aa4",
   "metadata": {},
   "outputs": [],
   "source": [
    "model.compile(optimizer='adam', loss='binary_crossentropy', metrics=['accuracy'])\n"
   ]
  },
  {
   "cell_type": "markdown",
   "id": "607e2b80",
   "metadata": {},
   "source": [
    "Continue training"
   ]
  },
  {
   "cell_type": "code",
   "execution_count": 13,
   "id": "268f5dc4",
   "metadata": {},
   "outputs": [
    {
     "name": "stdout",
     "output_type": "stream",
     "text": [
      "Epoch 1/5\n",
      "\u001b[1m465/465\u001b[0m \u001b[32m━━━━━━━━━━━━━━━━━━━━\u001b[0m\u001b[37m\u001b[0m \u001b[1m362s\u001b[0m 766ms/step - accuracy: 0.9450 - loss: 0.1489 - val_accuracy: 0.9737 - val_loss: 0.2835\n",
      "Epoch 2/5\n",
      "\u001b[1m465/465\u001b[0m \u001b[32m━━━━━━━━━━━━━━━━━━━━\u001b[0m\u001b[37m\u001b[0m \u001b[1m346s\u001b[0m 745ms/step - accuracy: 0.9700 - loss: 0.0778 - val_accuracy: 0.9309 - val_loss: 0.3962\n",
      "Epoch 3/5\n",
      "\u001b[1m465/465\u001b[0m \u001b[32m━━━━━━━━━━━━━━━━━━━━\u001b[0m\u001b[37m\u001b[0m \u001b[1m370s\u001b[0m 797ms/step - accuracy: 0.9747 - loss: 0.0626 - val_accuracy: 0.9707 - val_loss: 0.2064\n",
      "Epoch 4/5\n",
      "\u001b[1m465/465\u001b[0m \u001b[32m━━━━━━━━━━━━━━━━━━━━\u001b[0m\u001b[37m\u001b[0m \u001b[1m367s\u001b[0m 790ms/step - accuracy: 0.9791 - loss: 0.0511 - val_accuracy: 0.9737 - val_loss: 0.1482\n",
      "Epoch 5/5\n",
      "\u001b[1m465/465\u001b[0m \u001b[32m━━━━━━━━━━━━━━━━━━━━\u001b[0m\u001b[37m\u001b[0m \u001b[1m364s\u001b[0m 783ms/step - accuracy: 0.9783 - loss: 0.0547 - val_accuracy: 0.9775 - val_loss: 0.1460\n"
     ]
    }
   ],
   "source": [
    "fine_tune_history = model.fit(\n",
    "    train_data,\n",
    "    validation_data=test_data,\n",
    "    epochs=5,\n",
    "    class_weight=class_weights_dict,\n",
    "    callbacks=[early_stop]\n",
    ")"
   ]
  },
  {
   "cell_type": "markdown",
   "id": "9b6f6fbd",
   "metadata": {},
   "source": [
    "Evaluation"
   ]
  },
  {
   "cell_type": "code",
   "execution_count": 14,
   "id": "c0446f02",
   "metadata": {},
   "outputs": [
    {
     "name": "stdout",
     "output_type": "stream",
     "text": [
      "\u001b[1m157/157\u001b[0m \u001b[32m━━━━━━━━━━━━━━━━━━━━\u001b[0m\u001b[37m\u001b[0m \u001b[1m69s\u001b[0m 434ms/step\n",
      "\n",
      "Confusion Matrix:\n",
      "[[3129   48]\n",
      " [  65 1781]]\n",
      "\n",
      "Classification Report:\n",
      "              precision    recall  f1-score   support\n",
      "\n",
      "        cats       0.98      0.98      0.98      3177\n",
      "        dogs       0.97      0.96      0.97      1846\n",
      "\n",
      "    accuracy                           0.98      5023\n",
      "   macro avg       0.98      0.97      0.98      5023\n",
      "weighted avg       0.98      0.98      0.98      5023\n",
      "\n"
     ]
    }
   ],
   "source": [
    "test_data.reset()\n",
    "y_true = test_data.classes\n",
    "y_pred = (model.predict(test_data) > 0.5).astype(int).reshape(-1)\n",
    "\n",
    "print(\"\\nConfusion Matrix:\")\n",
    "print(confusion_matrix(y_true, y_pred))\n",
    "print(\"\\nClassification Report:\")\n",
    "print(classification_report(y_true, y_pred, target_names=[\"cats\", \"dogs\"]))\n"
   ]
  },
  {
   "cell_type": "code",
   "execution_count": null,
   "id": "bd99146e",
   "metadata": {},
   "outputs": [],
   "source": []
  }
 ],
 "metadata": {
  "kernelspec": {
   "display_name": "base",
   "language": "python",
   "name": "python3"
  },
  "language_info": {
   "codemirror_mode": {
    "name": "ipython",
    "version": 3
   },
   "file_extension": ".py",
   "mimetype": "text/x-python",
   "name": "python",
   "nbconvert_exporter": "python",
   "pygments_lexer": "ipython3",
   "version": "3.12.4"
  }
 },
 "nbformat": 4,
 "nbformat_minor": 5
}
